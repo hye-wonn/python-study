{
 "cells": [
  {
   "cell_type": "markdown",
   "id": "ad58057b",
   "metadata": {},
   "source": [
    "## 8. 객체 전달 및 변경 방법\n",
    "\n",
    "- 함수로 객체를 전달하면, mutable 객체는 내부에서 변경 가능"
   ]
  },
  {
   "cell_type": "code",
   "execution_count": null,
   "id": "577c75c9",
   "metadata": {},
   "outputs": [],
   "source": [
    "class User:\n",
    "    def __init__(self, name):\n",
    "        self.name = name\n",
    "\n",
    "def update_username(u):\n",
    "    u.name = \"변경됨\"\n",
    "\n",
    "user1 = User(\"원래이름\")\n",
    "update_username(user1)\n",
    "\n",
    "print(user1.name)"
   ]
  }
 ],
 "metadata": {
  "kernelspec": {
   "display_name": "Python 3",
   "language": "python",
   "name": "python3"
  },
  "language_info": {
   "codemirror_mode": {
    "name": "ipython",
    "version": 3
   },
   "file_extension": ".py",
   "mimetype": "text/x-python",
   "name": "python",
   "nbconvert_exporter": "python",
   "pygments_lexer": "ipython3",
   "version": "3.13.2"
  }
 },
 "nbformat": 4,
 "nbformat_minor": 5
}
