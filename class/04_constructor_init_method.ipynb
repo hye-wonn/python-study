{
 "cells": [
  {
   "cell_type": "markdown",
   "id": "394e9f69",
   "metadata": {},
   "source": [
    "## 4. 생성자\n",
    "---\n",
    "### 4-1. 생성자 정의\n",
    "- `__init__` 메서드로 정의\n",
    "- 객체를 생성할 때 자동으로 실행\n",
    "- 인스턴스 변수 초기화에 사용\n",
    "\n",
    "### 4-2. 생성자 사용 방법\n",
    "```python\n",
    "class 클래스명:\n",
    "    def __init__(self, 매개변수들):\n",
    "        초기화 코드\n",
    "```"
   ]
  },
  {
   "cell_type": "code",
   "execution_count": null,
   "id": "b9b019c2",
   "metadata": {},
   "outputs": [],
   "source": [
    "# 생성자 예제 1\n",
    "class Counter:\n",
    "    def __init__(self):\n",
    "        self.count = 0\n",
    "\n",
    "a = Counter()   # count = 0 으로 초기화됨\n",
    "\n",
    "# 생성자 예제 2\n",
    "class Dog: \n",
    "    def __init__(self):\n",
    "        print(\"강아지가 태어났어요!\")\n",
    "\n",
    "# 객체 생성 시 자동으로 __init__이 호출됨\n",
    "puppy = Dog()"
   ]
  }
 ],
 "metadata": {
  "kernelspec": {
   "display_name": "Python 3",
   "language": "python",
   "name": "python3"
  },
  "language_info": {
   "name": "python",
   "version": "3.13.2"
  }
 },
 "nbformat": 4,
 "nbformat_minor": 5
}
