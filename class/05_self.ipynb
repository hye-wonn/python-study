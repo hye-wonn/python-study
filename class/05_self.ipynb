{
 "cells": [
  {
   "cell_type": "markdown",
   "id": "87a3ed84",
   "metadata": {},
   "source": [
    "## 5. self\n",
    "\n",
    "---\n",
    "\n",
    "### 5-1. self 정의\n",
    "\n",
    "- 메서드 내부에서 자기 자신(인스턴스)을 가르킴\n",
    "- 인스턴스 변수에 접근할 때 필수\n",
    "- 생략하면 에러가 발생하며, 항상 첫 번째 인자로 사용"
   ]
  },
  {
   "cell_type": "code",
   "execution_count": null,
   "id": "0a04f38f",
   "metadata": {},
   "outputs": [],
   "source": [
    "class Student:\n",
    "    def __init__(self, name, age):\n",
    "        self.name = name   # self.name = 전달받은 name\n",
    "        self.age = age     # self.age = 전달받은 age\n",
    "    \n",
    "    def introduce(self):\n",
    "        print(f\"제 이름은 {self.name}이고, 나이는 {self.age}살 입니다.\")\n",
    "\n",
    "s = Student(\"유혜원\", 20)\n",
    "s.introduce()"
   ]
  },
  {
   "cell_type": "markdown",
   "id": "4c586f4f",
   "metadata": {},
   "source": [
    "### 5-2. 기본값 설정\n",
    "\n",
    "- 매개변수에 기본값을 주면 객체 생성 시 생략 가능"
   ]
  },
  {
   "cell_type": "code",
   "execution_count": null,
   "id": "fb4f18ec",
   "metadata": {},
   "outputs": [],
   "source": [
    "class Person:\n",
    "    def __init__(self, name = \"이름 없음\", age = 0):\n",
    "        self.name = name\n",
    "        self.age = age\n",
    "\n",
    "p1 = Person()\n",
    "p2 = Person(\"혜원\", 20)\n",
    "\n",
    "print(f\"이름: {p1.name}, 나이: {p1.age}\")\n",
    "print(f\"이름: {p2.name}, 나이: {p2.age}\")"
   ]
  }
 ],
 "metadata": {
  "kernelspec": {
   "display_name": "Python 3",
   "language": "python",
   "name": "python3"
  },
  "language_info": {
   "codemirror_mode": {
    "name": "ipython",
    "version": 3
   },
   "file_extension": ".py",
   "mimetype": "text/x-python",
   "name": "python",
   "nbconvert_exporter": "python",
   "pygments_lexer": "ipython3",
   "version": "3.13.2"
  }
 },
 "nbformat": 4,
 "nbformat_minor": 5
}
