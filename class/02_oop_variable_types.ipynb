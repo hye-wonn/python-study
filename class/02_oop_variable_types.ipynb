{
 "cells": [
  {
   "cell_type": "markdown",
   "id": "37f4b816",
   "metadata": {},
   "source": [
    "## 2. 인스턴스 변수와 클래스 변수\n",
    "\n",
    "---\n",
    "\n",
    "### 2-1. 인스턴스 변수\n",
    "\n",
    "- 객체마다 별도로 존재하는 변수\n",
    "- `self.변수명`으로 정의\n",
    "- `__init__` 또는 메서드 내부에서 선언\n",
    "\n",
    "### 2-2. 클래스 변수\n",
    "\n",
    "- 클래스에 소속된 변수로 모든 인스턴스가 공유함\n",
    "- `클래스명.변수명` 또는 `self.__class__.변수명`으로 정의\n",
    "- 클래스 내부 또는 메서드 밖에서 선언"
   ]
  },
  {
   "cell_type": "code",
   "execution_count": null,
   "id": "941bda69",
   "metadata": {},
   "outputs": [],
   "source": [
    "class Dog:\n",
    "    species = \"포유류\"   # 클래스 변수\n",
    "\n",
    "    def __init__(self, name):\n",
    "        self.name = name   # 인스턴스 변수\n",
    "\n",
    "d1 = Dog(\"초코\")\n",
    "d2 = Dog(\"하늘\")\n",
    "\n",
    "print(f\"{d1.name}은(는) {d1.species}입니다.\")\n",
    "print(f\"{d2.name}은(는) {d2.species}입니다.\")"
   ]
  },
  {
   "cell_type": "markdown",
   "id": "fc53f331",
   "metadata": {},
   "source": [
    "### 2-4. 클래스 변수 수정 시 주의점\n",
    "\n",
    "- `객체.클래스변수 = 값`\n",
    "- 해당 인스턴스의 전용 변수가 생성됨 (클래스 변수는 그대로)"
   ]
  },
  {
   "cell_type": "code",
   "execution_count": null,
   "id": "8b78c484",
   "metadata": {},
   "outputs": [],
   "source": [
    "d1.species = \"조류\"\n",
    "print(d1.species)     # 조류\n",
    "print(d2.species)     # 포유류 ← 영향 X"
   ]
  },
  {
   "cell_type": "markdown",
   "id": "f38f8e29",
   "metadata": {},
   "source": [
    "- `클래스명.클래스변수 = 값`\n",
    "- 전체 공유값 변경 방법"
   ]
  },
  {
   "cell_type": "code",
   "execution_count": null,
   "id": "d991c9be",
   "metadata": {},
   "outputs": [],
   "source": [
    "Dog.species = \"포유류\"   # 갱신됨"
   ]
  }
 ],
 "metadata": {
  "kernelspec": {
   "display_name": "Python 3",
   "language": "python",
   "name": "python3"
  },
  "language_info": {
   "name": "python",
   "version": "3.13.2"
  }
 },
 "nbformat": 4,
 "nbformat_minor": 5
}
