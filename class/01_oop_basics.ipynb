{
 "cells": [
  {
   "cell_type": "markdown",
   "id": "756ab4d3",
   "metadata": {},
   "source": [
    "## 1. 객체지향 프로그래밍(OOP) 필수 개념\n",
    "\n",
    "---\n",
    "\n",
    "### 1-1. 객체지향 프로그래밍\n",
    "\n",
    "- **객체지향 프로그래밍** - 프로그램을 객체 단위로 구성하여 개발하는 방식\n",
    "- **객체** - 속성과 동작을 가진 독립적 존재 (e.g. 자동차, 학생, 개)\n",
    "\n",
    "### 1-2. class와 인스턴스\n",
    "\n",
    "- **class** - 객체를 만들기 위한 설계도 → 속성(변수)과 기능(메서드)을 정의함\n",
    "- **인스턴스** - class를 바탕으로 생성된 실제 객체\n",
    "\n",
    "### 1-3. 객체와 인스턴스\n",
    "\n",
    "- **인스턴스 = 객체**\n",
    "- 클래스를 통해 만들어졌을 때 인스턴스라고 부름"
   ]
  },
  {
   "cell_type": "code",
   "execution_count": null,
   "id": "8eaab756",
   "metadata": {},
   "outputs": [],
   "source": [
    "# 클래스\n",
    "class Dog:\n",
    "    def bark(self):\n",
    "        print(\"멍멍!\")\n",
    "\n",
    "# 인스턴스 생성\n",
    "dog1 = Dog()\n",
    "dog2 = Dog()\n",
    "\n",
    "# 인스턴스의 동작 수행\n",
    "dog1.bark()\n",
    "dog2.bark()"
   ]
  }
 ],
 "metadata": {
  "kernelspec": {
   "display_name": "Python 3",
   "language": "python",
   "name": "python3"
  },
  "language_info": {
   "name": "python",
   "version": "3.13.2"
  }
 },
 "nbformat": 4,
 "nbformat_minor": 5
}
