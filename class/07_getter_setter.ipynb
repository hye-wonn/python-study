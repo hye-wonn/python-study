{
 "cells": [
  {
   "cell_type": "markdown",
   "id": "1a09b9d8",
   "metadata": {},
   "source": [
    "## 7. 접근자와 설정자\n",
    "\n",
    "---\n",
    "\n",
    "### 7-1. 접근자 (Getter)\n",
    "\n",
    "- private 변수의 값을 가져옴\n",
    "- 외부 접근 제어 및 유효성 검사 가능\n",
    "\n",
    "### 7-2. 설정자 (Setter)\n",
    "\n",
    "- private 변수의 값을 설정"
   ]
  },
  {
   "cell_type": "code",
   "execution_count": null,
   "id": "53a3553c",
   "metadata": {},
   "outputs": [],
   "source": [
    "class Student:\n",
    "\n",
    "    def __init__(self, name, age):\n",
    "        self.__name = name\n",
    "        self.__age = age\n",
    "    \n",
    "    def getName(self):\n",
    "        return self.__name\n",
    "    \n",
    "    def setName(self, name):\n",
    "        self.__name = name\n",
    "\n",
    "    def getAge(self):\n",
    "        return self.__age\n",
    "    \n",
    "    def setAge(self, age):\n",
    "        self.__age = age\n",
    "\n",
    "person = Student(\"이름 없음\", 20)\n",
    "person.setName(\"혜원\")\n",
    "\n",
    "print(f\"학생 이름: {person.getName()}, 학생 나이: {person.getAge()}\")"
   ]
  }
 ],
 "metadata": {
  "kernelspec": {
   "display_name": "Python 3",
   "language": "python",
   "name": "python3"
  },
  "language_info": {
   "name": "python",
   "version": "3.13.2"
  }
 },
 "nbformat": 4,
 "nbformat_minor": 5
}
