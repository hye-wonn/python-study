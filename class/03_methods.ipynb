{
 "cells": [
  {
   "cell_type": "markdown",
   "id": "e74dc90b",
   "metadata": {},
   "source": [
    "## 3. 메서드\n",
    "\n",
    "---\n",
    "\n",
    "### 3-1. 메서드 정의\n",
    "\n",
    "- 클래스 내부에서 정의된 함수\n",
    "- 첫 번째 인자로 `self` 사용\n",
    "\n",
    "### 3-2. 인스턴스 메서드\n",
    "\n",
    "- 클래스 내부에서 일반적으로 사용하는 메서드\n",
    "- `self` 인자 필수 → 객체의 속성에 접근 가능"
   ]
  },
  {
   "cell_type": "code",
   "execution_count": null,
   "id": "7cab3735",
   "metadata": {},
   "outputs": [],
   "source": [
    "class Student:\n",
    "\n",
    "    def __init__(self, name):\n",
    "        self.name = name\n",
    "\n",
    "    def say_hello(self):\n",
    "        print(f\"{self.name}님, 안녕하세요!\")\n",
    "\n",
    "s = Student(\"혜원\")\n",
    "s.say_hello()"
   ]
  },
  {
   "cell_type": "markdown",
   "id": "2636254d",
   "metadata": {},
   "source": [
    "### 3-3. 클래스 메서드\n",
    "\n",
    "- 클래스 자체를 대상으로 하는 메서드\n",
    "- cls 인자 필수 → 클래스 변수에 접근 가능\n",
    "- 클래스 변수(공통 데이터)를 변경할 때 사용"
   ]
  },
  {
   "cell_type": "code",
   "execution_count": null,
   "id": "007722e8",
   "metadata": {},
   "outputs": [],
   "source": [
    "class Student:\n",
    "    count = 0\n",
    "\n",
    "    def __init__(self, name):\n",
    "        self.name = name\n",
    "        Student.count += 1\n",
    "    \n",
    "    def get_count(cls):\n",
    "        print(f\"현재 학생 수: {cls.count}\")\n",
    "\n",
    "Student(\"학생1\")\n",
    "Student(\"학생2\")\n",
    "Student.get_count()"
   ]
  },
  {
   "cell_type": "markdown",
   "id": "ce098f80",
   "metadata": {},
   "source": [
    "### 3-4. 정적 메서드\n",
    "\n",
    "- 클래스나 객체 정보(self, cls) 없이 실행 가능한 함수\n",
    "- 일반 함수를 클래스 내부에 넣어두고 싶을 때 사용\n",
    "- 계산, 검증 등의 유틸리티 함수에 적합"
   ]
  },
  {
   "cell_type": "code",
   "execution_count": null,
   "id": "e7c960f7",
   "metadata": {},
   "outputs": [],
   "source": [
    "class Math:\n",
    "\n",
    "    def add(x, y):\n",
    "        return x + y\n",
    "\n",
    "print(Math.add(3, 5))"
   ]
  }
 ],
 "metadata": {
  "kernelspec": {
   "display_name": "Python 3",
   "language": "python",
   "name": "python3"
  },
  "language_info": {
   "name": "python",
   "version": "3.13.2"
  }
 },
 "nbformat": 4,
 "nbformat_minor": 5
}
