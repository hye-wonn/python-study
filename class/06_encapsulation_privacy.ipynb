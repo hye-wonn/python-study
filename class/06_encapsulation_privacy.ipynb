{
 "cells": [
  {
   "cell_type": "markdown",
   "id": "43ac75b1",
   "metadata": {},
   "source": [
    "## 6. 캡슐화 (정보 은닉)\n",
    "\n",
    "- 외부에서 객체의 내부 데이터에 직접 접근하지 못하게 보호\n",
    "- 변수명 앞에 '__'를 붙이면 private(비공개) 속성으로 설정"
   ]
  },
  {
   "cell_type": "code",
   "execution_count": null,
   "id": "aafe830f",
   "metadata": {},
   "outputs": [],
   "source": [
    "class Student:\n",
    "    def __init__(self, name, age):\n",
    "        self.__name = name\n",
    "        self.__age = age\n",
    "\n",
    "s = Student(\"홍길동\", 20)\n",
    "# print(s.__age) → 에러 발생 (외부 접근 불가)"
   ]
  }
 ],
 "metadata": {
  "kernelspec": {
   "display_name": "Python 3",
   "language": "python",
   "name": "python3"
  },
  "language_info": {
   "name": "python",
   "version": "3.13.2"
  }
 },
 "nbformat": 4,
 "nbformat_minor": 5
}
